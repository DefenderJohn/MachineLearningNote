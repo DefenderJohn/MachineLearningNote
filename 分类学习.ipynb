{
 "cells": [
  {
   "cell_type": "markdown",
   "metadata": {},
   "source": [
    "# 分类学习\n",
    "## 决策树 Decision Tree"
   ]
  },
  {
   "cell_type": "code",
   "execution_count": 16,
   "metadata": {},
   "outputs": [],
   "source": [
    "# 绘制Mermaid图表的工具，来自 https://gist.github.com/MLKrisJohnson/2d2df47879ee6afd3be9d6788241fe99\n",
    "import base64\n",
    "from IPython.display import Image, display\n",
    "\n",
    "def mm_ink(graphbytes):\n",
    "  \"\"\"Given a bytes object holding a Mermaid-format graph, return a URL that will generate the image.\"\"\"\n",
    "  base64_bytes = base64.b64encode(graphbytes)\n",
    "  base64_string = base64_bytes.decode(\"ascii\")\n",
    "  return \"https://mermaid.ink/img/\" + base64_string\n",
    "\n",
    "def mm_display(graphbytes):\n",
    "  \"\"\"Given a bytes object holding a Mermaid-format graph, display it.\"\"\"\n",
    "  display(Image(url=mm_ink(graphbytes)))\n",
    "\n",
    "def mm(graph):\n",
    "  \"\"\"Given a string containing a Mermaid-format graph, display it.\"\"\"\n",
    "  graphbytes = graph.encode(\"ascii\")\n",
    "  mm_display(graphbytes)\n",
    "\n",
    "def mm_link(graph):\n",
    "  \"\"\"Given a string containing a Mermaid-format graph, return URL for display.\"\"\"\n",
    "  graphbytes = graph.encode(\"ascii\")\n",
    "  return mm_ink(graphbytes)\n",
    "  \n",
    "def mm_path(path):\n",
    "  \"\"\"Given a path to a file containing a Mermaid-format graph, display it\"\"\"\n",
    "  with open(path, 'rb') as f:\n",
    "    graphbytes = f.read()\n",
    "  mm_display(graphbytes)"
   ]
  },
  {
   "cell_type": "markdown",
   "metadata": {},
   "source": [
    "### 概要\n",
    "决策树是主要用于分类和回归任务的数据结构，它由节点和连接这两部分组成。\n",
    " - 节点：每个节点都代表了一个数据标签\n",
    " - 连接：由父节点连接到子节点的标签特征。\n",
    "我们下面会用一个简单的样例来解释决策树。\n",
    "\n",
    "首先，我们需要一些数据，这些数据应该具备自己的数据标签和观察到的特征。这里我们以“学生是否通过考试”为案例，示例如下：\n",
    "| 学习时长(StudyDuration:H/M/L) | 是否复习(Reviewed:Y/N) | 睡眠质量(SleepQuality:G/A(verage)/P(oor)) | 是否通过考试(Pass/Fail) |\n",
    "|--------|--------|--------|-----------|\n",
    "| 高     | 是    | 好     | 是        |\n",
    "| 高     | 否    | 好     | 否        |\n",
    "| 中     | 是    | 一般   | 是        |\n",
    "| 低     | 否    | 差     | 否        |\n",
    "| 低     | 是    | 好     | 否        |\n",
    "| 低     | 是    | 一般   | 是        |\n",
    "| 中     | 否    | 差     | 否        |\n",
    "| 高     | 是    | 一般   | 是        |\n",
    "\n",
    "随后，我们需要选取**特征**和**目标变量**。\n",
    " - 特征：特征指的是我们用来进行判断决策的指标，比如上表中的学习时长，是否复习等\n",
    " - 目标变量：目标变量指的是我们需要预测的指标，只能有一个，就是上表里的是否通过考试\n",
    "接下来我们需要对这张数据表进行观察并构建一棵决策树。构建决策树时我们需要使用一些算法来确定应该以什么特征进行判断决策，但在这里先暂时忽略，就以最基础的直觉进行构建，如下："
   ]
  },
  {
   "cell_type": "code",
   "execution_count": 17,
   "metadata": {},
   "outputs": [
    {
     "data": {
      "text/html": [
       "<img src=\"https://mermaid.ink/img/CmdyYXBoIFRECiAgICBBW1N0dWR5RHVyYXRpb25dIC0tPnxIfCBCMVtSZXZpZXdlZF0KICAgIEEgLS0+fE18IEIyW1Jldmlld2VkXQogICAgQSAtLT58THwgQjNbUmV2aWV3ZWRdCiAgICBCMSAtLT58WXwgQzFbU1FdCiAgICBCMSAtLT58TnwgQzJbU1FdCiAgICBCMiAtLT58WXwgQzNbU1FdCiAgICBCMiAtLT58TnwgQzRbU1FdCiAgICBCMyAtLT58WXwgQzVbU1FdCiAgICBCMyAtLT58TnwgQzZbU1FdCiAgICBDMSAtLT58R3wgRDFbUGFzc10KICAgIEMxIC0tPnxBfCBEMltQYXNzXQogICAgQzEgLS0+fFB8IEQzW0ZhaWxdCiAgICBDMiAtLT58R3wgRDRbRmFpbF0KICAgIEMyIC0tPnxBfCBENVtGYWlsXQogICAgQzIgLS0+fFB8IEQ2W0ZhaWxdCiAgICBDMyAtLT58R3wgRDdbRmFpbF0KICAgIEMzIC0tPnxBfCBEOFtQYXNzXQogICAgQzMgLS0+fFB8IEQ5W0ZhaWxdCiAgICBDNCAtLT58R3wgRDEwW0ZhaWxdCiAgICBDNCAtLT58QXwgRDExW0ZhaWxdCiAgICBDNCAtLT58UHwgRDEyW0ZhaWxdCiAgICBDNSAtLT58R3wgRDEzW0ZhaWxdCiAgICBDNSAtLT58QXwgRDE0W1Bhc3NdCiAgICBDNSAtLT58UHwgRDE1W0ZhaWxdCiAgICBDNiAtLT58R3wgRDE2W0ZhaWxdCiAgICBDNiAtLT58QXwgRDE3W1Bhc3NdCiAgICBDNiAtLT58UHwgRDE4W0ZhaWxdCg==\"/>"
      ],
      "text/plain": [
       "<IPython.core.display.Image object>"
      ]
     },
     "metadata": {},
     "output_type": "display_data"
    }
   ],
   "source": [
    "mm(\"\"\"\n",
    "graph TD\n",
    "    A[StudyDuration] -->|H| B1[Reviewed]\n",
    "    A -->|M| B2[Reviewed]\n",
    "    A -->|L| B3[Reviewed]\n",
    "    B1 -->|Y| C1[SQ]\n",
    "    B1 -->|N| C2[SQ]\n",
    "    B2 -->|Y| C3[SQ]\n",
    "    B2 -->|N| C4[SQ]\n",
    "    B3 -->|Y| C5[SQ]\n",
    "    B3 -->|N| C6[SQ]\n",
    "    C1 -->|G| D1[Pass]\n",
    "    C1 -->|A| D2[Pass]\n",
    "    C1 -->|P| D3[Fail]\n",
    "    C2 -->|G| D4[Fail]\n",
    "    C2 -->|A| D5[Fail]\n",
    "    C2 -->|P| D6[Fail]\n",
    "    C3 -->|G| D7[Fail]\n",
    "    C3 -->|A| D8[Pass]\n",
    "    C3 -->|P| D9[Fail]\n",
    "    C4 -->|G| D10[Fail]\n",
    "    C4 -->|A| D11[Fail]\n",
    "    C4 -->|P| D12[Fail]\n",
    "    C5 -->|G| D13[Fail]\n",
    "    C5 -->|A| D14[Pass]\n",
    "    C5 -->|P| D15[Fail]\n",
    "    C6 -->|G| D16[Fail]\n",
    "    C6 -->|A| D17[Pass]\n",
    "    C6 -->|P| D18[Fail]\n",
    "\"\"\")"
   ]
  },
  {
   "cell_type": "markdown",
   "metadata": {},
   "source": [
    "在这里，我们展示了一个纯粹直觉构建的决策树图表。当我们拿到一个新的数据，比如下表时，就可以根据上面构建的决策树进行预测。\n",
    "| 学习时长 | 是否复习 | 睡眠质量 | 是否通过考试 |\n",
    "|--------|--------|--------|-----------|\n",
    "| 低     | 否    | 好     | ？        |\n",
    "\n",
    "我们根据新的数据和决策树，首先判断学习时长，于是走L路线，然后判断是否复习，走H路线，随后判断睡眠质量，走G路线，最后得到的结果就直接是G边对应的叶子节点，也即Fail。于是我们就可以预测在这种情况下这位考生不能通过考试。"
   ]
  },
  {
   "cell_type": "code",
   "execution_count": 20,
   "metadata": {},
   "outputs": [
    {
     "data": {
      "text/html": [
       "<img src=\"https://mermaid.ink/img/CmdyYXBoIFRECiAgICBBW1N0dWR5RHVyYXRpb25dIC0tPnxIfCBCMVtSZXZpZXdlZF0KICAgIEEgLS0+fE18IEIyW1Jldmlld2VkXQogICAgQSAtLT58THwgQjNbUmV2aWV3ZWRdCiAgICBCMSAtLT58WXwgQzFbU1FdCiAgICBCMSAtLT58TnwgQzJbU1FdCiAgICBCMiAtLT58WXwgQzNbU1FdCiAgICBCMiAtLT58TnwgQzRbU1FdCiAgICBCMyAtLT58WXwgQzVbU1FdCiAgICBCMyAtLT58TnwgQzZbU1FdCiAgICBDMSAtLT58R3wgRDFbUGFzc10KICAgIEMxIC0tPnxBfCBEMltQYXNzXQogICAgQzEgLS0+fFB8IEQzW0ZhaWxdCiAgICBDMiAtLT58R3wgRDRbRmFpbF0KICAgIEMyIC0tPnxBfCBENVtGYWlsXQogICAgQzIgLS0+fFB8IEQ2W0ZhaWxdCiAgICBDMyAtLT58R3wgRDdbRmFpbF0KICAgIEMzIC0tPnxBfCBEOFtQYXNzXQogICAgQzMgLS0+fFB8IEQ5W0ZhaWxdCiAgICBDNCAtLT58R3wgRDEwW0ZhaWxdCiAgICBDNCAtLT58QXwgRDExW0ZhaWxdCiAgICBDNCAtLT58UHwgRDEyW0ZhaWxdCiAgICBDNSAtLT58R3wgRDEzW0ZhaWxdCiAgICBDNSAtLT58QXwgRDE0W1Bhc3NdCiAgICBDNSAtLT58UHwgRDE1W0ZhaWxdCiAgICBDNiAtLT58R3wgRDE2W0ZhaWxdCiAgICBDNiAtLT58QXwgRDE3W1Bhc3NdCiAgICBDNiAtLT58UHwgRDE4W0ZhaWxdCgogICAgY2xhc3NEZWYgcmVkIGZpbGw6I2Y2NixzdHJva2U6I2Y2NjsKICAgIGNsYXNzIEIzLEM2LEQxNiByZWQ7CiAgICBsaW5rU3R5bGUgMiBzdHJva2U6I2Y2NixzdHJva2Utd2lkdGg6MnB4OwogICAgbGlua1N0eWxlIDggc3Ryb2tlOiNmNjYsc3Ryb2tlLXdpZHRoOjJweDsKICAgIGxpbmtTdHlsZSAyNCBzdHJva2U6I2Y2NixzdHJva2Utd2lkdGg6MnB4Owo=\"/>"
      ],
      "text/plain": [
       "<IPython.core.display.Image object>"
      ]
     },
     "metadata": {},
     "output_type": "display_data"
    }
   ],
   "source": [
    "# @hidden_cell\n",
    "mm(\"\"\"\n",
    "graph TD\n",
    "    A[StudyDuration] -->|H| B1[Reviewed]\n",
    "    A -->|M| B2[Reviewed]\n",
    "    A -->|L| B3[Reviewed]\n",
    "    B1 -->|Y| C1[SQ]\n",
    "    B1 -->|N| C2[SQ]\n",
    "    B2 -->|Y| C3[SQ]\n",
    "    B2 -->|N| C4[SQ]\n",
    "    B3 -->|Y| C5[SQ]\n",
    "    B3 -->|N| C6[SQ]\n",
    "    C1 -->|G| D1[Pass]\n",
    "    C1 -->|A| D2[Pass]\n",
    "    C1 -->|P| D3[Fail]\n",
    "    C2 -->|G| D4[Fail]\n",
    "    C2 -->|A| D5[Fail]\n",
    "    C2 -->|P| D6[Fail]\n",
    "    C3 -->|G| D7[Fail]\n",
    "    C3 -->|A| D8[Pass]\n",
    "    C3 -->|P| D9[Fail]\n",
    "    C4 -->|G| D10[Fail]\n",
    "    C4 -->|A| D11[Fail]\n",
    "    C4 -->|P| D12[Fail]\n",
    "    C5 -->|G| D13[Fail]\n",
    "    C5 -->|A| D14[Pass]\n",
    "    C5 -->|P| D15[Fail]\n",
    "    C6 -->|G| D16[Fail]\n",
    "    C6 -->|A| D17[Pass]\n",
    "    C6 -->|P| D18[Fail]\n",
    "\n",
    "    classDef red fill:#f66,stroke:#f66;\n",
    "    class B3,C6,D16 red;\n",
    "    linkStyle 2 stroke:#f66,stroke-width:2px;\n",
    "    linkStyle 8 stroke:#f66,stroke-width:2px;\n",
    "    linkStyle 24 stroke:#f66,stroke-width:2px;\n",
    "\"\"\")"
   ]
  }
 ],
 "metadata": {
  "kernelspec": {
   "display_name": "Python 3",
   "language": "python",
   "name": "python3"
  },
  "language_info": {
   "codemirror_mode": {
    "name": "ipython",
    "version": 3
   },
   "file_extension": ".py",
   "mimetype": "text/x-python",
   "name": "python",
   "nbconvert_exporter": "python",
   "pygments_lexer": "ipython3",
   "version": "3.11.5"
  }
 },
 "nbformat": 4,
 "nbformat_minor": 2
}
