{
 "cells": [
  {
   "cell_type": "markdown",
   "metadata": {},
   "source": [
    "# 线性模型"
   ]
  },
  {
   "cell_type": "markdown",
   "metadata": {},
   "source": [
    "## 线性分类器"
   ]
  },
  {
   "cell_type": "markdown",
   "metadata": {},
   "source": [
    "### 线性分类器与线性回归的区别\n",
    "在讨论线性分类器之前，我们首先需要对线性分类器和线性回归做一个区分。\n",
    "这个区别有点像是PDF和CDF的区别一样，线性回归是建立在连续问题上的，例如给出几个函数点，对这个函数进行线性回归来进行连续预测。而线性分类器则是基于给定的标签集合，对它找出一组合适的权重来进行有效的线性分类。"
   ]
  }
 ],
 "metadata": {
  "language_info": {
   "name": "python"
  }
 },
 "nbformat": 4,
 "nbformat_minor": 2
}
