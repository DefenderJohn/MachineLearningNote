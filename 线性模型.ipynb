{
 "cells": [
  {
   "cell_type": "markdown",
   "metadata": {},
   "source": [
    "# 线性模型"
   ]
  },
  {
   "cell_type": "markdown",
   "metadata": {},
   "source": [
    "## 线性分类器 Linear Classifiers"
   ]
  },
  {
   "cell_type": "markdown",
   "metadata": {},
   "source": [
    "### 线性分类器与线性回归的区别\n",
    "在讨论线性分类器之前，我们首先需要对线性分类器和线性回归做一个区分。\n",
    "这个区别有点像是PDF和CDF的区别一样，线性回归是建立在连续问题上的，例如给出几个函数点，对这个函数进行线性回归来进行连续预测。而线性分类器则是基于给定的标签集合，对它找出一组合适的权重来进行有效的线性分类。"
   ]
  },
  {
   "cell_type": "markdown",
   "metadata": {},
   "source": [
    "### 线性阈值单元 Linear Threshold Unit, LTU\n",
    "线性阈值单元是很常用的线性分类器，由权重$\\mathbf{w}$和输入$\\mathbf{x}$两部分组成，其中:\n",
    " - 输入：输入是一个$n\\times 1$的矩阵，它可以是任何数据，比如传感器的采样等\n",
    " - 权重：权重也是一个$n\\times 1$的矩阵，权重决定了输入数据对最终决策的影响程度\n",
    "LTU的公式如下：\n",
    "$$\n",
    "    \\left\\{\n",
    "        \\begin{align}\n",
    "            -1 &,\\{ \\mathbf{w}^T\\mathbf{x}+b \\lt 0 \\}\\\\\n",
    "            1 &,\\{ \\mathbf{w}^T\\mathbf{x}+b \\geq 0 \\}\n",
    "        \\end{align}    \n",
    "    \\right.\n",
    "$$\n",
    "或者也可以写作\n",
    "$$\\textbf{sign}(\\mathbf{w}^T\\mathbf{x}+b)$$\n",
    "这里的$\\textbf{sign}$表示取运算结果的符号。\n",
    "在上式中：\n",
    " - $\\mathbf{w}$和$\\mathbf{x}$已经在前文介绍过了，这里不再赘述\n",
    " - $b$是偏置项或者叫误差项，它可以独立于所有输入进行调整，从而使LTU不必穿过原点，增加其灵活性。\n",
    "这个公式进一步化简可以得到：\n",
    "$$\n",
    "    \\left\\{\n",
    "        \\begin{align}\n",
    "            -1 &,\\left\\{ \\sum_{i}{w_ix_i}+b \\lt 0 \\right\\}\\\\\n",
    "            1 &,\\left\\{ \\sum_{i}{w_ix_i}+b \\geq 0 \\right\\}\n",
    "        \\end{align}    \n",
    "    \\right.\n",
    "$$\n",
    "可以看见，这其实就是一个加权求和的计算，对每一个输入加权，然后输出其符号。\n"
   ]
  }
 ],
 "metadata": {
  "language_info": {
   "name": "python"
  }
 },
 "nbformat": 4,
 "nbformat_minor": 2
}
